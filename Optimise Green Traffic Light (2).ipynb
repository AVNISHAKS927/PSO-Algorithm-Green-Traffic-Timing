{
 "cells": [
  {
   "cell_type": "code",
   "execution_count": 164,
   "metadata": {},
   "outputs": [],
   "source": [
    "import pandas as pd"
   ]
  },
  {
   "cell_type": "code",
   "execution_count": 165,
   "metadata": {},
   "outputs": [],
   "source": [
    "import numpy as np"
   ]
  },
  {
   "cell_type": "code",
   "execution_count": 166,
   "metadata": {},
   "outputs": [],
   "source": [
    "import matplotlib.pyplot as plt"
   ]
  },
  {
   "cell_type": "code",
   "execution_count": 167,
   "metadata": {},
   "outputs": [],
   "source": [
    "#Function to find the fitness value\n",
    "def fit_fun(val):\n",
    "    f_val=1+2*val-val**2\n",
    "    return f_val"
   ]
  },
  {
   "cell_type": "code",
   "execution_count": 168,
   "metadata": {},
   "outputs": [],
   "source": [
    "#Random No use for the updating velocity of particle\n",
    "p1=[]\n",
    "v1=[]\n",
    "p1.append(np.random.randint(1,15,10))\n",
    "v1.append(np.random.randint(1,15,10))"
   ]
  },
  {
   "cell_type": "code",
   "execution_count": 169,
   "metadata": {},
   "outputs": [
    {
     "name": "stdout",
     "output_type": "stream",
     "text": [
      "Intial random generated particle poisition P1 =  [array([ 1,  9,  2,  7,  5, 12, 11,  4,  5,  1])]\n",
      "Intial random generated particle velocity V1 =  [array([ 9,  7,  8,  9, 10,  3,  7, 11, 10,  7])]\n"
     ]
    }
   ],
   "source": [
    "print(\"Intial random generated particle poisition P1 = \",p1)\n",
    "print(\"Intial random generated particle velocity V1 = \",v1)"
   ]
  },
  {
   "cell_type": "code",
   "execution_count": 170,
   "metadata": {},
   "outputs": [],
   "source": [
    "#Intialisation of Particle and Velocity intially\n",
    "fitness_val=[0]*10\n",
    "current_position=[]\n",
    "current_velocity=[]\n",
    "for i in range(10):\n",
    "    current_position.append(p1[0][i]-10) #here subtract 10 to generate both +ve and -ve value\n",
    "    current_velocity.append(v1[0][i]-10)"
   ]
  },
  {
   "cell_type": "code",
   "execution_count": 171,
   "metadata": {},
   "outputs": [
    {
     "name": "stdout",
     "output_type": "stream",
     "text": [
      "Now value of current position and velocity is calculated such that we get both positive and negative value\n",
      "\n",
      "Current Position of Particle ---  [-9, -1, -8, -3, -5, 2, 1, -6, -5, -9]\n",
      "Current Velocity of Particle ----  [-1, -3, -2, -1, 0, -7, -3, 1, 0, -3]\n"
     ]
    }
   ],
   "source": [
    "print(\"Now value of current position and velocity is calculated such that we get both positive and negative value\\n\")\n",
    "print(\"Current Position of Particle --- \",current_position)\n",
    "print(\"Current Velocity of Particle ---- \",current_velocity)"
   ]
  },
  {
   "cell_type": "code",
   "execution_count": 172,
   "metadata": {},
   "outputs": [],
   "source": [
    "#Iterate to call the fitness function\n",
    "current_fitness=[]\n",
    "for i in range(10):\n",
    "    fvalue=fit_fun(current_position[i])\n",
    "    current_fitness.append(fvalue)"
   ]
  },
  {
   "cell_type": "code",
   "execution_count": 173,
   "metadata": {},
   "outputs": [],
   "source": [
    "#Assigning the intial value of position and fitness for furthur comparision\n",
    "initial_position=current_position\n",
    "initial_fitness=current_fitness"
   ]
  },
  {
   "cell_type": "code",
   "execution_count": 174,
   "metadata": {},
   "outputs": [
    {
     "data": {
      "image/png": "[encoded data removed]",
      "text/plain": [
       "<Figure size 432x288 with 1 Axes>"
      ]
     },
     "metadata": {},
     "output_type": "display_data"
    }
   ],
   "source": [
    "plt.plot(initial_fitness,initial_position,color='blue',linestyle='dashed',markerfacecolor='pink',label=\"first Comparision\")\n",
    "plt.xlabel(\"Intial-Fitness\")\n",
    "plt.ylabel(\"Intial-Position\")\n",
    "plt.legend()\n",
    "plt.show()"
   ]
  },
  {
   "cell_type": "code",
   "execution_count": 175,
   "metadata": {},
   "outputs": [
    {
     "name": "stdout",
     "output_type": "stream",
     "text": [
      "The Current Fitness Value is with the defined Function.\n",
      "\n",
      "Current Fitness Value of Particle -- [-98, -2, -79, -14, -34, 1, 2, -47, -34, -98]\n"
     ]
    }
   ],
   "source": [
    "print(\"The Current Fitness Value is with the defined Function.\\n\")\n",
    "print(\"Current Fitness Value of Particle --\",current_fitness)"
   ]
  },
  {
   "cell_type": "code",
   "execution_count": 176,
   "metadata": {},
   "outputs": [],
   "source": [
    "#Local Best Position value of each particle for first iteration is 1st current position\n",
    "local_best_position=[]\n",
    "for i in range(10):\n",
    "    lbp_val=current_position[i];\n",
    "    local_best_position.append(lbp_val);"
   ]
  },
  {
   "cell_type": "code",
   "execution_count": 177,
   "metadata": {},
   "outputs": [
    {
     "name": "stdout",
     "output_type": "stream",
     "text": [
      "Value for Local Best Position of Particle --- [-9, -1, -8, -3, -5, 2, 1, -6, -5, -9]\n"
     ]
    }
   ],
   "source": [
    "print(\"Value for Local Best Position of Particle ---\",local_best_position)"
   ]
  },
  {
   "cell_type": "code",
   "execution_count": 178,
   "metadata": {},
   "outputs": [],
   "source": [
    "#Local Best Fitness value of each paticle upto 1st iteration is 1st current fitness\n",
    "local_best_fitness=[]\n",
    "for i in range(10):\n",
    "    lbf_val=current_fitness[i]\n",
    "    local_best_fitness.append(lbf_val)"
   ]
  },
  {
   "cell_type": "code",
   "execution_count": 179,
   "metadata": {},
   "outputs": [
    {
     "name": "stdout",
     "output_type": "stream",
     "text": [
      "Value for Local Best Fitness of Particle--- [-98, -2, -79, -14, -34, 1, 2, -47, -34, -98]\n"
     ]
    }
   ],
   "source": [
    "print(\"Value for Local Best Fitness of Particle---\",local_best_fitness)"
   ]
  },
  {
   "cell_type": "code",
   "execution_count": 180,
   "metadata": {},
   "outputs": [],
   "source": [
    "#Global Best fitness\n",
    "#Finding the GBF value which is max of LBF\n",
    "gbf_val=max(local_best_fitness)\n",
    "gbf_index=local_best_fitness.index(max(local_best_fitness))"
   ]
  },
  {
   "cell_type": "code",
   "execution_count": 181,
   "metadata": {},
   "outputs": [
    {
     "name": "stdout",
     "output_type": "stream",
     "text": [
      "Global Best Fitness and Global best Position Calculated from Local Best Position/Fitness.\n",
      "\n",
      "Global Best Fitness value is ---   2\n",
      "Index value where the Global Best Position found is --  6\n"
     ]
    }
   ],
   "source": [
    "print(\"Global Best Fitness and Global best Position Calculated from Local Best Position/Fitness.\\n\")\n",
    "print(\"Global Best Fitness value is ---  \",gbf_val)\n",
    "print(\"Index value where the Global Best Position found is -- \",gbf_index)"
   ]
  },
  {
   "cell_type": "code",
   "execution_count": 182,
   "metadata": {},
   "outputs": [],
   "source": [
    "#Global Best Position is at same index value in which global best fitness is found in current_position list\n",
    "gbp_val=current_position[gbf_index]"
   ]
  },
  {
   "cell_type": "code",
   "execution_count": 183,
   "metadata": {},
   "outputs": [
    {
     "name": "stdout",
     "output_type": "stream",
     "text": [
      "Global Best position found at index position  6  in GBP list, the value of gbp is---  1\n"
     ]
    }
   ],
   "source": [
    "print(\"Global Best position found at index position \",gbf_index,\" in GBP list, the value of gbp is--- \",gbp_val)"
   ]
  },
  {
   "cell_type": "code",
   "execution_count": 184,
   "metadata": {},
   "outputs": [
    {
     "name": "stdout",
     "output_type": "stream",
     "text": [
      "Now we have some constrain parameter in PSO Algo.\n",
      "\n",
      "The value of intial weight(W)=0.7 , and two accleration coefficient c1=0.2, c2=0.6\n"
     ]
    }
   ],
   "source": [
    "print(\"Now we have some constrain parameter in PSO Algo.\\n\")\n",
    "print(\"The value of intial weight(W)=0.7 , and two accleration coefficient c1=0.2, c2=0.6\")"
   ]
  },
  {
   "cell_type": "code",
   "execution_count": 185,
   "metadata": {},
   "outputs": [],
   "source": [
    "#Some constraint parameter in PSO\n",
    "w=0.7\n",
    "#C1 and C2 are acceleration coeffient\n",
    "c1=0.2\n",
    "c2=0.6"
   ]
  },
  {
   "cell_type": "code",
   "execution_count": 186,
   "metadata": {},
   "outputs": [],
   "source": [
    "arr_velocity=np.array(current_velocity)"
   ]
  },
  {
   "cell_type": "code",
   "execution_count": 187,
   "metadata": {},
   "outputs": [],
   "source": [
    "temp_velocity=arr_velocity\n",
    "#Assignment of the value from arr_velocity to temp_velocity"
   ]
  },
  {
   "cell_type": "code",
   "execution_count": 188,
   "metadata": {},
   "outputs": [],
   "source": [
    "#Converting array to a list\n",
    "temp_velocity=temp_velocity.tolist()"
   ]
  },
  {
   "cell_type": "code",
   "execution_count": 189,
   "metadata": {},
   "outputs": [],
   "source": [
    "green=[]\n",
    "nogreen=[]"
   ]
  },
  {
   "cell_type": "code",
   "execution_count": 190,
   "metadata": {},
   "outputs": [
    {
     "name": "stdout",
     "output_type": "stream",
     "text": [
      "Particle not in Motion Green Light turns off because velocity -ve  -1 \n",
      "\n",
      "Particle not in Motion Green Light turns off because velocity -ve  -3 \n",
      "\n",
      "Particle not in Motion Green Light turns off because velocity -ve  -2 \n",
      "\n",
      "Particle not in Motion Green Light turns off because velocity -ve  -1 \n",
      "\n",
      "Particle not in Motion Green Light turns off because velocity -ve  0 \n",
      "\n",
      "Particle not in Motion Green Light turns off because velocity -ve  -7 \n",
      "\n",
      "Particle not in Motion Green Light turns off because velocity -ve  -3 \n",
      "\n",
      "Particle in Motion Green Light turns on because velocity +ve 1 \n",
      "\n",
      "Particle not in Motion Green Light turns off because velocity -ve  0 \n",
      "\n",
      "Particle not in Motion Green Light turns off because velocity -ve  -3 \n",
      "\n"
     ]
    }
   ],
   "source": [
    "for i in range(10):\n",
    "    if(temp_velocity[i]>0):\n",
    "        green.append(temp_velocity[i]);\n",
    "        print(\"Particle in Motion Green Light turns on because velocity +ve\",temp_velocity[i],\"\\n\")\n",
    "    else:\n",
    "        nogreen.append(temp_velocity[i]);\n",
    "        print(\"Particle not in Motion Green Light turns off because velocity -ve \",temp_velocity[i],\"\\n\")"
   ]
  },
  {
   "cell_type": "code",
   "execution_count": 191,
   "metadata": {},
   "outputs": [
    {
     "name": "stdout",
     "output_type": "stream",
     "text": [
      "Value of green signal for particle based on velocity after first is shown\n",
      "\n",
      "[1]\n",
      "Value of non-green signal for particle based on velocity after first is shown\n",
      "\n",
      "[-1, -3, -2, -1, 0, -7, -3, 0, -3]\n"
     ]
    }
   ],
   "source": [
    "print(\"Value of green signal for particle based on velocity after first is shown\\n\")\n",
    "print(green)\n",
    "print(\"Value of non-green signal for particle based on velocity after first is shown\\n\")\n",
    "print(nogreen)"
   ]
  },
  {
   "cell_type": "code",
   "execution_count": 192,
   "metadata": {},
   "outputs": [
    {
     "name": "stdout",
     "output_type": "stream",
     "text": [
      "Enter the no of iteration you want to perform to optimise it.\n",
      "\n"
     ]
    }
   ],
   "source": [
    "print(\"Enter the no of iteration you want to perform to optimise it.\\n\")"
   ]
  },
  {
   "cell_type": "code",
   "execution_count": 193,
   "metadata": {},
   "outputs": [
    {
     "name": "stdout",
     "output_type": "stream",
     "text": [
      "6\n",
      "We are going to perform the no of  6  iteration to optimise it.\n"
     ]
    }
   ],
   "source": [
    "#Velocity updation for iteration 2 and furthur\n",
    "iteration=int(input())\n",
    "print(\"We are going to perform the no of \",iteration,\" iteration to optimise it.\")\n",
    "for j in range(1,iteration):\n",
    "    for i in range(10):\n",
    "        arr_velocity[i]=w*arr_velocity[i]+c1*p1[0][i]*(local_best_position[i]-current_position[i])+c2*v1[0][i]*(gbf_val-current_position[i])\n",
    "        current_position[i]=current_position[i]+arr_velocity[i]\n",
    "        current_fitness[i]=fit_fun(current_position[i])\n",
    "        local_best_fitness[i]=max(current_fitness[i],local_best_fitness[i])\n",
    "    gbf_val=max(local_best_fitness)\n",
    "    gbf_index=local_best_fitness.index(max(local_best_fitness))\n",
    "    gbp_val=current_position[gbf_index]"
   ]
  },
  {
   "cell_type": "code",
   "execution_count": 194,
   "metadata": {},
   "outputs": [],
   "source": [
    "conclusion_velocity=arr_velocity\n",
    "#Assignment of the value from arr_velocity to conclusion_velocity"
   ]
  },
  {
   "cell_type": "code",
   "execution_count": 195,
   "metadata": {},
   "outputs": [],
   "source": [
    "conclusion_velocity=conclusion_velocity.tolist()"
   ]
  },
  {
   "cell_type": "code",
   "execution_count": 196,
   "metadata": {},
   "outputs": [],
   "source": [
    "green_last=[]\n",
    "nongreen_last=[]"
   ]
  },
  {
   "cell_type": "code",
   "execution_count": 197,
   "metadata": {},
   "outputs": [
    {
     "name": "stdout",
     "output_type": "stream",
     "text": [
      "Particle in Motion Green Light turns on because velocity +ve 11456 \n",
      "\n",
      "Particle in Motion Green Light turns on because velocity +ve 2791 \n",
      "\n",
      "Particle in Motion Green Light turns on because velocity +ve 5659 \n",
      "\n",
      "Particle in Motion Green Light turns on because velocity +ve 15951 \n",
      "\n",
      "Particle in Motion Green Light turns on because velocity +ve 30557 \n",
      "\n",
      "Particle not in Motion Green Light turns off because velocity -ve -152 \n",
      "\n",
      "Particle in Motion Green Light turns on because velocity +ve 635 \n",
      "\n",
      "Particle in Motion Green Light turns on because velocity +ve 52287 \n",
      "\n",
      "Particle in Motion Green Light turns on because velocity +ve 30557 \n",
      "\n",
      "Particle in Motion Green Light turns on because velocity +ve 1627 \n",
      "\n"
     ]
    }
   ],
   "source": [
    "for i in range(10):\n",
    "    if(conclusion_velocity[i]>0):\n",
    "        green_last.append(conclusion_velocity[i])\n",
    "        print(\"Particle in Motion Green Light turns on because velocity +ve\",conclusion_velocity[i],\"\\n\")\n",
    "    else:\n",
    "        nongreen_last.append(conclusion_velocity[i])\n",
    "        print(\"Particle not in Motion Green Light turns off because velocity -ve\",conclusion_velocity[i],\"\\n\")"
   ]
  },
  {
   "cell_type": "code",
   "execution_count": 198,
   "metadata": {},
   "outputs": [
    {
     "name": "stdout",
     "output_type": "stream",
     "text": [
      "Value of green signal for particle based on velocity after full iteration is shown\n",
      "\n",
      "[11456, 2791, 5659, 15951, 30557, 635, 52287, 30557, 1627]\n",
      "Value of non-green signal for particle based on velocity after full iteration is shown\n",
      "\n",
      "[-152]\n"
     ]
    }
   ],
   "source": [
    "print(\"Value of green signal for particle based on velocity after full iteration is shown\\n\")\n",
    "print(green_last)\n",
    "print(\"Value of non-green signal for particle based on velocity after full iteration is shown\\n\")\n",
    "print(nongreen_last)"
   ]
  },
  {
   "cell_type": "code",
   "execution_count": 199,
   "metadata": {},
   "outputs": [
    {
     "data": {
      "image/png": "[encoded data removed]",
      "text/plain": [
       "<Figure size 432x288 with 1 Axes>"
      ]
     },
     "metadata": {},
     "output_type": "display_data"
    }
   ],
   "source": [
    "plt.plot(current_fitness,current_position,color='green',linestyle='dashed',markerfacecolor='red',label=\"Last Comparision\")\n",
    "plt.xlabel(\"Current-Fitness\")\n",
    "plt.ylabel(\"Current-Position\")\n",
    "plt.legend()\n",
    "plt.show()"
   ]
  },
  {
   "cell_type": "code",
   "execution_count": null,
   "metadata": {},
   "outputs": [],
   "source": []
  }
 ],
 "metadata": {
  "kernelspec": {
   "display_name": "Python 3",
   "language": "python",
   "name": "python3"
  },
  "language_info": {
   "codemirror_mode": {
    "name": "ipython",
    "version": 3
   },
   "file_extension": ".py",
   "mimetype": "text/x-python",
   "name": "python",
   "nbconvert_exporter": "python",
   "pygments_lexer": "ipython3",
   "version": "3.6.5"
  }
 },
 "nbformat": 4,
 "nbformat_minor": 2
}
